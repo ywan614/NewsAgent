{
 "cells": [
  {
   "cell_type": "code",
   "execution_count": 15,
   "metadata": {},
   "outputs": [
    {
     "name": "stdout",
     "output_type": "stream",
     "text": [
      "2024-01-11\n"
     ]
    }
   ],
   "source": [
    "import os\n",
    "import datetime\n",
    "#get today's date\n",
    "today = datetime.date.today().strftime(\"%Y-%m-%d\")\n",
    "print(today)\n",
    "\n",
    "#read all md files from output folder\n",
    "def read_files():\n",
    "    files = []\n",
    "    for file in os.listdir(\"output\"):\n",
    "        #check file name in date format, if date > 2024-01-01, add to list\n",
    "        if file[0:10] > \"2024-01-01\":\n",
    "            files.append(file)\n",
    "    return files\n",
    "\n",
    "#combine all files in file_list into one file\n",
    "def combine_files(file_list):\n",
    "    #read all files in file_list\n",
    "    for file in file_list:\n",
    "        with open(\"output/\" + file, \"r\") as f:\n",
    "            #read file content\n",
    "            content = f.read()\n",
    "            #write content to combined file\n",
    "            with open(f\"summaries/{today}.md\", \"a\") as f1:\n",
    "                f1.write(content)\n",
    "                f1.write(\"\\n\")\n",
    "\n",
    "file_list = read_files()\n",
    "combine_files(file_list)\n"
   ]
  },
  {
   "cell_type": "code",
   "execution_count": null,
   "metadata": {},
   "outputs": [],
   "source": []
  }
 ],
 "metadata": {
  "kernelspec": {
   "display_name": "machine_learning",
   "language": "python",
   "name": "python3"
  },
  "language_info": {
   "codemirror_mode": {
    "name": "ipython",
    "version": 3
   },
   "file_extension": ".py",
   "mimetype": "text/x-python",
   "name": "python",
   "nbconvert_exporter": "python",
   "pygments_lexer": "ipython3",
   "version": "3.11.4"
  }
 },
 "nbformat": 4,
 "nbformat_minor": 2
}
